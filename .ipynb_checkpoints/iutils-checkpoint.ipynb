{
 "cells": [
  {
   "cell_type": "markdown",
   "metadata": {},
   "source": [
    "# 攻击类型划分"
   ]
  },
  {
   "cell_type": "markdown",
   "metadata": {},
   "source": [
    "40种分类，映射为五大类：\n",
    "* 0 NORMAL\n",
    "* 1 PROBE\n",
    "* 2 DOS\n",
    "* 3 U2R\n",
    "* 4 R2L"
   ]
  },
  {
   "cell_type": "code",
   "execution_count": 53,
   "metadata": {},
   "outputs": [],
   "source": [
    "specific = {\n",
    "        'normal.': 0,\n",
    "        'ipsweep.': 1,\n",
    "        'mscan.': 1,\n",
    "        'nmap.': 1,\n",
    "        'portsweep.': 1,\n",
    "        'saint.': 1,\n",
    "        'satan.': 1,\n",
    "        'apache2.': 2,\n",
    "        'back.': 2,\n",
    "        'mailbomb.': 2,\n",
    "        'neptune.': 2,\n",
    "        'pod.': 2,\n",
    "        'land.': 2,\n",
    "        'processtable.': 2,\n",
    "        'smurf.': 2,\n",
    "        'teardrop.': 2,\n",
    "        'udpstorm.': 2,\n",
    "        'buffer_overflow.': 3,\n",
    "        'loadmodule.': 3,\n",
    "        'perl.': 3,\n",
    "        'ps.': 3,\n",
    "        'rootkit.': 3,\n",
    "        'sqlattack.': 3,\n",
    "        'xterm.': 3,\n",
    "        'ftp_write.': 4,\n",
    "        'guess_passwd.': 4,\n",
    "        'httptunnel.': 3,  # disputation resolved\n",
    "        'imap.': 4,\n",
    "        'multihop.': 4,  # disputation resolved\n",
    "        'named.': 4,\n",
    "        'phf.': 4,\n",
    "        'sendmail.': 4,\n",
    "        'snmpgetattack.': 4,\n",
    "        'snmpguess.': 4,\n",
    "        'worm.': 4,\n",
    "        'xlock.': 4,\n",
    "        'xsnoop.': 4,\n",
    "        'spy.': 4,\n",
    "        'warezclient.': 4,\n",
    "        'warezmaster.': 4  # disputation resolved\n",
    "}\n",
    "index2major ={\n",
    "    0:'NORMAL',\n",
    "    1:'PROBE',\n",
    "    2:'DOS',\n",
    "    3:'U2R',\n",
    "    4:'R2L'\n",
    "}"
   ]
  },
  {
   "cell_type": "code",
   "execution_count": 56,
   "metadata": {},
   "outputs": [],
   "source": [
    "def attack2majorindex(colLabel):\n",
    "    '''\n",
    "    :colLabel: a list of specific classes\n",
    "    :return: a list of index of 5 major classes\n",
    "    map normal to 0\n",
    "    map others to 1,2,3,4\n",
    "    '''\n",
    "    l = []\n",
    "    for val in colLabel:\n",
    "        l.append(specific[val])\n",
    "    return l"
   ]
  },
  {
   "cell_type": "code",
   "execution_count": 5,
   "metadata": {},
   "outputs": [],
   "source": [
    "def mapper_attack2majorindex(label):\n",
    "    '''\n",
    "    :return: attack_type to index in [0,1,2,3,4]\n",
    "    '''\n",
    "    return specific[label]"
   ]
  },
  {
   "cell_type": "code",
   "execution_count": 6,
   "metadata": {},
   "outputs": [],
   "source": [
    "def majorindex2string(index):\n",
    "    '''\n",
    "    :index: in [0,1,2,3,4]\n",
    "    :return: String: NORMAL,PROBE,DOS,U2R,R2L\n",
    "    '''\n",
    "    return index2major[index]"
   ]
  },
  {
   "cell_type": "markdown",
   "metadata": {},
   "source": [
    "# 合并稀疏特征"
   ]
  },
  {
   "cell_type": "code",
   "execution_count": 61,
   "metadata": {},
   "outputs": [],
   "source": [
    "def mapper_mergeSparseFeatureInService(serviceType):\n",
    "    '''\n",
    "    :serviceType: string. a specific service type\n",
    "    :return: original input, 'normal_service_group', or 'satan_service_group'\n",
    "    映射：\n",
    "    ntp_u,urh_i,tftp_u,red_i 为 normal_service_group\n",
    "    pm_dump,http_2784,harvest,aol,http_8001 为 satan_service_group\n",
    "    '''\n",
    "    if serviceType in ['ntp_u','urh_i','tftp_u','red_i']:\n",
    "        return 'normal_service_group'\n",
    "    if serviceType in ['pm_dump','http_2784','harvest','aol','http_8001']:\n",
    "        return 'satan_service_group'"
   ]
  },
  {
   "cell_type": "code",
   "execution_count": 60,
   "metadata": {},
   "outputs": [],
   "source": [
    "def mergeSparseFeatureInService(colService):\n",
    "    '''\n",
    "    :colService: a columns of Service\n",
    "    :return: a list of original input, 'normal_service_group', or 'satan_service_group'\n",
    "    映射：\n",
    "    ntp_u,urh_i,tftp_u,red_i 为 normal_service_group\n",
    "    pm_dump,http_2784,harvest,aol,http_8001 为 satan_service_group\n",
    "    '''\n",
    "    group={\n",
    "        # normal\n",
    "        'ntp_u':'normal_service_group',\n",
    "        'urh_i':'normal_service_group',\n",
    "        'tftp_u':'normal_service_group',\n",
    "        'red_i':'normal_service_group',\n",
    "        # satan\n",
    "        'pm_dump':'satan_service_group',\n",
    "        'http_2784':'satan_service_group',\n",
    "        'harvest':'satan_service_group',\n",
    "        'aol':'satan_service_group',\n",
    "        'http_8001':'satan_service_group'\n",
    "    }\n",
    "    result = []\n",
    "    for val in colService:\n",
    "        if val in group:\n",
    "            result.append(group[val])\n",
    "        else:\n",
    "            result.append(val)\n",
    "    return result      "
   ]
  },
  {
   "cell_type": "markdown",
   "metadata": {},
   "source": [
    "# 混淆矩阵绘制"
   ]
  },
  {
   "cell_type": "code",
   "execution_count": 17,
   "metadata": {},
   "outputs": [],
   "source": [
    "from sklearn.metrics import confusion_matrix # 根据true和pred，lebals，生成混淆矩阵\n",
    "import matplotlib.pyplot as plt"
   ]
  },
  {
   "cell_type": "code",
   "execution_count": 85,
   "metadata": {},
   "outputs": [],
   "source": [
    "def drawConfusionMatrix(true,pred,labels):\n",
    "    '''\n",
    "    :true: true label list\n",
    "    :pre:  predict label list\n",
    "    :label: label, decide order of x , y\n",
    "    '''\n",
    "    cm = confusion_matrix(true,pred,labels)\n",
    "    print(cm)\n",
    "    plt.matshow(cm,cmap=plt.cm.Pastel1) # 颜色 https://blog.csdn.net/Mr_Cat123/article/details/78638491\n",
    "    plt.colorbar()     # 颜色标签\n",
    "    '''\n",
    "    annotate:主要在图形中添加注释\n",
    "    第一个参数添加注释\n",
    "    第一个参数是注释的内容\n",
    "    xy设置箭头尖的坐标\n",
    "    horizontalalignment水平对齐\n",
    "    verticalalignment垂直对齐\n",
    "    '''\n",
    "    for x in range(len(cm)):\n",
    "        for y in range(len(cm)):\n",
    "            plt.annotate(cm[x,y],xy=(y,x),horizontalalignment='center',verticalalignment='center')\n",
    "    plt.ylabel('True label')# 坐标轴标签\n",
    "    plt.xlabel('Predicted label')# 坐标轴标签    \n",
    "    return plt"
   ]
  },
  {
   "cell_type": "code",
   "execution_count": 48,
   "metadata": {},
   "outputs": [],
   "source": [
    "def getConfusionMatrix(true,pred,labels):\n",
    "    from sklearn.metrics import confusion_matrix\n",
    "    return confusion_matrix(true,pred,labels)"
   ]
  },
  {
   "cell_type": "code",
   "execution_count": 99,
   "metadata": {},
   "outputs": [],
   "source": [
    "def calculateRecall(cm):\n",
    "    '''\n",
    "    :return: a dict (label:value) recording precision rate\n",
    "    '''\n",
    "    result={}\n",
    "    for x in range(len(cm)):\n",
    "        tp = cm[x,x]\n",
    "        s = sum(cm[x,:])\n",
    "        result[x]= tp/s if s is not 0 else 0\n",
    "    return result            "
   ]
  },
  {
   "cell_type": "code",
   "execution_count": 1,
   "metadata": {},
   "outputs": [],
   "source": [
    "def calculatePrecision(cm):\n",
    "    '''\n",
    "    :return: a dict (label:value) recording recall rate\n",
    "    '''\n",
    "    result={}\n",
    "    for x in range(len(cm)):\n",
    "        tp = cm[x,x]\n",
    "        s = sum(cm[:,x])\n",
    "        result[x]= tp/s if s is not 0 else 0\n",
    "    return result "
   ]
  },
  {
   "cell_type": "code",
   "execution_count": 115,
   "metadata": {},
   "outputs": [],
   "source": [
    "def preAndRec(cm,labels):\n",
    "    '''\n",
    "    根据输入混淆矩阵和labels，计算各类Precision和Recall并打印\n",
    "    '''\n",
    "    solve = calculatePrecision(cm=cm)\n",
    "    print('-'*30)\n",
    "    print(\"Precision:\")\n",
    "    for i in range(len(solve)):\n",
    "        print(\"%s : \\t %f\"%( labels[i], solve[i]))\n",
    "    solve = calculateRecall(cm=cm)\n",
    "    print()\n",
    "    print(\"Precision:\")\n",
    "    for i in range(len(solve)):\n",
    "        print(\"%s : \\t %f\"%( labels[i], solve[i]))\n",
    "    print('-'*30)"
   ]
  }
 ],
 "metadata": {
  "kernelspec": {
   "display_name": "Python 3",
   "language": "python",
   "name": "python3"
  },
  "language_info": {
   "codemirror_mode": {
    "name": "ipython",
    "version": 3
   },
   "file_extension": ".py",
   "mimetype": "text/x-python",
   "name": "python",
   "nbconvert_exporter": "python",
   "pygments_lexer": "ipython3",
   "version": "3.6.6"
  }
 },
 "nbformat": 4,
 "nbformat_minor": 2
}
