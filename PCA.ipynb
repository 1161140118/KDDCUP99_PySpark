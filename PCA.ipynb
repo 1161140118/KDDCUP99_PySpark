{
 "cells": [
  {
   "cell_type": "markdown",
   "metadata": {},
   "source": [
    "# 数据预处理"
   ]
  },
  {
   "cell_type": "code",
   "execution_count": 6,
   "metadata": {},
   "outputs": [],
   "source": [
    "import numpy as np\n",
    "import pandas as pd\n",
    "import matplotlib.pyplot as plt"
   ]
  },
  {
   "cell_type": "code",
   "execution_count": 14,
   "metadata": {
    "scrolled": true
   },
   "outputs": [
    {
     "data": {
      "text/html": [
       "<div>\n",
       "<style scoped>\n",
       "    .dataframe tbody tr th:only-of-type {\n",
       "        vertical-align: middle;\n",
       "    }\n",
       "\n",
       "    .dataframe tbody tr th {\n",
       "        vertical-align: top;\n",
       "    }\n",
       "\n",
       "    .dataframe thead th {\n",
       "        text-align: right;\n",
       "    }\n",
       "</style>\n",
       "<table border=\"1\" class=\"dataframe\">\n",
       "  <thead>\n",
       "    <tr style=\"text-align: right;\">\n",
       "      <th></th>\n",
       "      <th>duration</th>\n",
       "      <th>protocol_type</th>\n",
       "      <th>service</th>\n",
       "      <th>flag</th>\n",
       "      <th>src_bytes</th>\n",
       "      <th>dst_bytes</th>\n",
       "      <th>land</th>\n",
       "      <th>wrong_fragment</th>\n",
       "      <th>urgent</th>\n",
       "      <th>hot</th>\n",
       "      <th>...</th>\n",
       "      <th>dst_host_srv_count</th>\n",
       "      <th>dst_host_same_srv_rate</th>\n",
       "      <th>dst_host_diff_srv_rate</th>\n",
       "      <th>dst_host_same_src_port_rate</th>\n",
       "      <th>dst_host_srv_diff_host_rate</th>\n",
       "      <th>dst_host_serror_rate</th>\n",
       "      <th>dst_host_srv_serror_rate</th>\n",
       "      <th>dst_host_rerror_rate</th>\n",
       "      <th>dst_host_srv_rerror_rate</th>\n",
       "      <th>label</th>\n",
       "    </tr>\n",
       "  </thead>\n",
       "  <tbody>\n",
       "    <tr>\n",
       "      <th>0</th>\n",
       "      <td>0</td>\n",
       "      <td>tcp</td>\n",
       "      <td>http</td>\n",
       "      <td>SF</td>\n",
       "      <td>181</td>\n",
       "      <td>5450</td>\n",
       "      <td>0</td>\n",
       "      <td>0</td>\n",
       "      <td>0</td>\n",
       "      <td>0</td>\n",
       "      <td>...</td>\n",
       "      <td>9</td>\n",
       "      <td>1.0</td>\n",
       "      <td>0.0</td>\n",
       "      <td>0.11</td>\n",
       "      <td>0.0</td>\n",
       "      <td>0.0</td>\n",
       "      <td>0.0</td>\n",
       "      <td>0.0</td>\n",
       "      <td>0.0</td>\n",
       "      <td>normal.</td>\n",
       "    </tr>\n",
       "  </tbody>\n",
       "</table>\n",
       "<p>1 rows × 42 columns</p>\n",
       "</div>"
      ],
      "text/plain": [
       "   duration protocol_type service flag  src_bytes  dst_bytes  land  \\\n",
       "0         0           tcp    http   SF        181       5450     0   \n",
       "\n",
       "   wrong_fragment  urgent  hot   ...     dst_host_srv_count  \\\n",
       "0               0       0    0   ...                      9   \n",
       "\n",
       "   dst_host_same_srv_rate  dst_host_diff_srv_rate  \\\n",
       "0                     1.0                     0.0   \n",
       "\n",
       "   dst_host_same_src_port_rate  dst_host_srv_diff_host_rate  \\\n",
       "0                         0.11                          0.0   \n",
       "\n",
       "   dst_host_serror_rate  dst_host_srv_serror_rate  dst_host_rerror_rate  \\\n",
       "0                   0.0                       0.0                   0.0   \n",
       "\n",
       "   dst_host_srv_rerror_rate    label  \n",
       "0                       0.0  normal.  \n",
       "\n",
       "[1 rows x 42 columns]"
      ]
     },
     "execution_count": 14,
     "metadata": {},
     "output_type": "execute_result"
    }
   ],
   "source": [
    "col_names = [\"duration\",\"protocol_type\",\"service\",\"flag\",\"src_bytes\",\n",
    "    \"dst_bytes\",\"land\",\"wrong_fragment\",\"urgent\",\"hot\",\"num_failed_logins\",\n",
    "    \"logged_in\",\"num_compromised\",\"root_shell\",\"su_attempted\",\"num_root\",\n",
    "    \"num_file_creations\",\"num_shells\",\"num_access_files\",\"num_outbound_cmds\",\n",
    "    \"is_host_login\",\"is_guest_login\",\"count\",\"srv_count\",\"serror_rate\",\n",
    "    \"srv_serror_rate\",\"rerror_rate\",\"srv_rerror_rate\",\"same_srv_rate\",\n",
    "    \"diff_srv_rate\",\"srv_diff_host_rate\",\"dst_host_count\",\"dst_host_srv_count\",\n",
    "    \"dst_host_same_srv_rate\",\"dst_host_diff_srv_rate\",\"dst_host_same_src_port_rate\",\n",
    "    \"dst_host_srv_diff_host_rate\",\"dst_host_serror_rate\",\"dst_host_srv_serror_rate\",\n",
    "    \"dst_host_rerror_rate\",\"dst_host_srv_rerror_rate\",\"label\"]\n",
    "data10p = pd.read_csv('Data/kddcup.data_10_percent.gz', header=None, names = col_names)\n",
    "data10p.describe()"
   ]
  },
  {
   "cell_type": "code",
   "execution_count": 16,
   "metadata": {},
   "outputs": [
    {
     "data": {
      "text/html": [
       "<div>\n",
       "<style scoped>\n",
       "    .dataframe tbody tr th:only-of-type {\n",
       "        vertical-align: middle;\n",
       "    }\n",
       "\n",
       "    .dataframe tbody tr th {\n",
       "        vertical-align: top;\n",
       "    }\n",
       "\n",
       "    .dataframe thead th {\n",
       "        text-align: right;\n",
       "    }\n",
       "</style>\n",
       "<table border=\"1\" class=\"dataframe\">\n",
       "  <thead>\n",
       "    <tr style=\"text-align: right;\">\n",
       "      <th></th>\n",
       "      <th>duration</th>\n",
       "      <th>protocol_type</th>\n",
       "      <th>service</th>\n",
       "      <th>flag</th>\n",
       "      <th>src_bytes</th>\n",
       "      <th>dst_bytes</th>\n",
       "      <th>land</th>\n",
       "      <th>wrong_fragment</th>\n",
       "      <th>urgent</th>\n",
       "      <th>hot</th>\n",
       "      <th>...</th>\n",
       "      <th>dst_host_srv_count</th>\n",
       "      <th>dst_host_same_srv_rate</th>\n",
       "      <th>dst_host_diff_srv_rate</th>\n",
       "      <th>dst_host_same_src_port_rate</th>\n",
       "      <th>dst_host_srv_diff_host_rate</th>\n",
       "      <th>dst_host_serror_rate</th>\n",
       "      <th>dst_host_srv_serror_rate</th>\n",
       "      <th>dst_host_rerror_rate</th>\n",
       "      <th>dst_host_srv_rerror_rate</th>\n",
       "      <th>label</th>\n",
       "    </tr>\n",
       "  </thead>\n",
       "  <tbody>\n",
       "    <tr>\n",
       "      <th>0</th>\n",
       "      <td>0</td>\n",
       "      <td>tcp</td>\n",
       "      <td>http</td>\n",
       "      <td>SF</td>\n",
       "      <td>181</td>\n",
       "      <td>5450</td>\n",
       "      <td>0</td>\n",
       "      <td>0</td>\n",
       "      <td>0</td>\n",
       "      <td>0</td>\n",
       "      <td>...</td>\n",
       "      <td>9</td>\n",
       "      <td>1.0</td>\n",
       "      <td>0.0</td>\n",
       "      <td>0.11</td>\n",
       "      <td>0.0</td>\n",
       "      <td>0.0</td>\n",
       "      <td>0.0</td>\n",
       "      <td>0.0</td>\n",
       "      <td>0.0</td>\n",
       "      <td>normal.</td>\n",
       "    </tr>\n",
       "    <tr>\n",
       "      <th>1</th>\n",
       "      <td>0</td>\n",
       "      <td>tcp</td>\n",
       "      <td>http</td>\n",
       "      <td>SF</td>\n",
       "      <td>239</td>\n",
       "      <td>486</td>\n",
       "      <td>0</td>\n",
       "      <td>0</td>\n",
       "      <td>0</td>\n",
       "      <td>0</td>\n",
       "      <td>...</td>\n",
       "      <td>19</td>\n",
       "      <td>1.0</td>\n",
       "      <td>0.0</td>\n",
       "      <td>0.05</td>\n",
       "      <td>0.0</td>\n",
       "      <td>0.0</td>\n",
       "      <td>0.0</td>\n",
       "      <td>0.0</td>\n",
       "      <td>0.0</td>\n",
       "      <td>normal.</td>\n",
       "    </tr>\n",
       "  </tbody>\n",
       "</table>\n",
       "<p>2 rows × 42 columns</p>\n",
       "</div>"
      ],
      "text/plain": [
       "   duration protocol_type service flag  src_bytes  dst_bytes  land  \\\n",
       "0         0           tcp    http   SF        181       5450     0   \n",
       "1         0           tcp    http   SF        239        486     0   \n",
       "\n",
       "   wrong_fragment  urgent  hot   ...     dst_host_srv_count  \\\n",
       "0               0       0    0   ...                      9   \n",
       "1               0       0    0   ...                     19   \n",
       "\n",
       "   dst_host_same_srv_rate  dst_host_diff_srv_rate  \\\n",
       "0                     1.0                     0.0   \n",
       "1                     1.0                     0.0   \n",
       "\n",
       "   dst_host_same_src_port_rate  dst_host_srv_diff_host_rate  \\\n",
       "0                         0.11                          0.0   \n",
       "1                         0.05                          0.0   \n",
       "\n",
       "   dst_host_serror_rate  dst_host_srv_serror_rate  dst_host_rerror_rate  \\\n",
       "0                   0.0                       0.0                   0.0   \n",
       "1                   0.0                       0.0                   0.0   \n",
       "\n",
       "   dst_host_srv_rerror_rate    label  \n",
       "0                       0.0  normal.  \n",
       "1                       0.0  normal.  \n",
       "\n",
       "[2 rows x 42 columns]"
      ]
     },
     "execution_count": 16,
     "metadata": {},
     "output_type": "execute_result"
    }
   ],
   "source": [
    "data10p.head(2)"
   ]
  },
  {
   "cell_type": "code",
   "execution_count": 61,
   "metadata": {},
   "outputs": [
    {
     "data": {
      "text/plain": [
       "(494021, 41)"
      ]
     },
     "execution_count": 61,
     "metadata": {},
     "output_type": "execute_result"
    }
   ],
   "source": [
    "dataset = data10p.iloc[:,:-1].values\n",
    "dataset.shape"
   ]
  },
  {
   "cell_type": "code",
   "execution_count": 62,
   "metadata": {},
   "outputs": [
    {
     "data": {
      "text/plain": [
       "array([[0, 'tcp', 'http', 'SF', 181, 5450, 0, 0, 0, 0, 0, 1, 0, 0, 0, 0,\n",
       "        0, 0, 0, 0, 0, 0, 8, 8, 0.0, 0.0, 0.0, 0.0, 1.0, 0.0, 0.0, 9, 9,\n",
       "        1.0, 0.0, 0.11, 0.0, 0.0, 0.0, 0.0, 0.0],\n",
       "       [0, 'tcp', 'http', 'SF', 239, 486, 0, 0, 0, 0, 0, 1, 0, 0, 0, 0,\n",
       "        0, 0, 0, 0, 0, 0, 8, 8, 0.0, 0.0, 0.0, 0.0, 1.0, 0.0, 0.0, 19,\n",
       "        19, 1.0, 0.0, 0.05, 0.0, 0.0, 0.0, 0.0, 0.0],\n",
       "       [0, 'tcp', 'http', 'SF', 235, 1337, 0, 0, 0, 0, 0, 1, 0, 0, 0, 0,\n",
       "        0, 0, 0, 0, 0, 0, 8, 8, 0.0, 0.0, 0.0, 0.0, 1.0, 0.0, 0.0, 29,\n",
       "        29, 1.0, 0.0, 0.03, 0.0, 0.0, 0.0, 0.0, 0.0],\n",
       "       [0, 'tcp', 'http', 'SF', 219, 1337, 0, 0, 0, 0, 0, 1, 0, 0, 0, 0,\n",
       "        0, 0, 0, 0, 0, 0, 6, 6, 0.0, 0.0, 0.0, 0.0, 1.0, 0.0, 0.0, 39,\n",
       "        39, 1.0, 0.0, 0.03, 0.0, 0.0, 0.0, 0.0, 0.0],\n",
       "       [0, 'tcp', 'http', 'SF', 217, 2032, 0, 0, 0, 0, 0, 1, 0, 0, 0, 0,\n",
       "        0, 0, 0, 0, 0, 0, 6, 6, 0.0, 0.0, 0.0, 0.0, 1.0, 0.0, 0.0, 49,\n",
       "        49, 1.0, 0.0, 0.02, 0.0, 0.0, 0.0, 0.0, 0.0]], dtype=object)"
      ]
     },
     "execution_count": 62,
     "metadata": {},
     "output_type": "execute_result"
    }
   ],
   "source": [
    "dataset[0:5,:]"
   ]
  },
  {
   "cell_type": "markdown",
   "metadata": {},
   "source": [
    "### 虚拟编码"
   ]
  },
  {
   "cell_type": "code",
   "execution_count": 64,
   "metadata": {},
   "outputs": [
    {
     "name": "stdout",
     "output_type": "stream",
     "text": [
      "['tcp' 'http' 'SF']\n",
      "[1 'http' 'SF']\n",
      "[1 22 'SF']\n",
      "[1 22 9]\n"
     ]
    }
   ],
   "source": [
    "from sklearn.preprocessing import LabelEncoder,OneHotEncoder\n",
    "# 对第1到3列编码\n",
    "dataset_encoded = dataset.copy()\n",
    "print(dataset[0,1:4])\n",
    "for i in range(1,4):\n",
    "    dataset_encoded[:,i] = LabelEncoder().fit_transform(dataset_encoded[:,i])\n",
    "    print(dataset_encoded[0,1:4])"
   ]
  },
  {
   "cell_type": "code",
   "execution_count": 65,
   "metadata": {},
   "outputs": [
    {
     "data": {
      "text/plain": [
       "array([0, 1, 22, 9, 181], dtype=object)"
      ]
     },
     "execution_count": 65,
     "metadata": {},
     "output_type": "execute_result"
    }
   ],
   "source": [
    "dataset_encoded[0,0:5]"
   ]
  },
  {
   "cell_type": "code",
   "execution_count": 66,
   "metadata": {},
   "outputs": [],
   "source": [
    "onehotencoder = OneHotEncoder(categorical_features=[1,2,3])\n",
    "dataset_encoded = onehotencoder.fit_transform(dataset_encoded).toarray()"
   ]
  },
  {
   "cell_type": "code",
   "execution_count": 67,
   "metadata": {},
   "outputs": [
    {
     "data": {
      "text/plain": [
       "(494021, 118)"
      ]
     },
     "execution_count": 67,
     "metadata": {},
     "output_type": "execute_result"
    }
   ],
   "source": [
    "dataset_encoded.shape"
   ]
  },
  {
   "cell_type": "markdown",
   "metadata": {},
   "source": [
    "### 特征缩放"
   ]
  },
  {
   "cell_type": "code",
   "execution_count": 69,
   "metadata": {},
   "outputs": [],
   "source": [
    "from sklearn.preprocessing import StandardScaler\n",
    "scer = StandardScaler()\n",
    "dataset_scaled = scer.fit_transform(dataset_encoded)"
   ]
  },
  {
   "cell_type": "code",
   "execution_count": 70,
   "metadata": {
    "collapsed": true
   },
   "outputs": [
    {
     "data": {
      "text/plain": [
       "array([[-1.16094640e+00,  1.26460323e+00, -2.07294758e-01,\n",
       "        -9.32997380e-03, -4.71876634e-03, -1.36477686e-02,\n",
       "        -2.57755794e-02, -1.46496357e-02, -1.47872239e-02,\n",
       "        -1.59723184e-02, -1.40137964e-02, -1.44407978e-02,\n",
       "        -1.53252400e-02, -1.53252400e-02, -1.09592224e-01,\n",
       "        -1.50586327e-02, -5.77479824e-02, -1.15042674e+00,\n",
       "        -1.44407978e-02, -1.41575600e-02, -3.68518585e-02,\n",
       "        -4.02234933e-02, -9.82266635e-02, -1.53911709e-02,\n",
       "        -1.45107441e-02,  2.58532402e+00, -1.41575600e-02,\n",
       "        -1.53911709e-02, -1.52590245e-02, -1.46496357e-02,\n",
       "        -1.40858615e-02, -1.42998796e-02, -1.43705113e-02,\n",
       "        -1.45107441e-02, -1.47185904e-02, -1.40858615e-02,\n",
       "        -1.41575600e-02, -1.43705113e-02, -1.47185904e-02,\n",
       "        -1.38685437e-02, -1.45803551e-02, -1.47872239e-02,\n",
       "        -2.77450931e-02, -1.21930159e-01, -1.42274718e-03,\n",
       "        -1.42998796e-02, -2.02251517e-02, -1.48555406e-02,\n",
       "        -5.37997330e-01, -1.42274718e-03, -1.55872920e-02,\n",
       "        -1.49912408e-02, -1.50586327e-02, -1.41691502e-01,\n",
       "        -1.49235448e-02, -1.45803551e-02, -1.47185904e-02,\n",
       "        -1.45803551e-02, -1.52590245e-02, -3.22412287e-02,\n",
       "        -1.42274718e-03, -3.76425808e-03, -1.78297864e-02,\n",
       "        -5.32350255e-03, -3.30183251e-02, -1.46496357e-02,\n",
       "        -1.46496357e-02, -1.46496357e-02, -1.49235448e-02,\n",
       "        -4.02416523e-03, -2.39854527e-01, -3.42547834e-02,\n",
       "        -4.71876634e-03, -4.27925776e-02, -4.62351662e-01,\n",
       "        -1.07421145e-02, -6.97017152e-03, -4.49916261e-03,\n",
       "         5.52643043e-01, -1.47185904e-02, -6.77917205e-02,\n",
       "        -2.87852770e-03,  1.38664408e-01, -6.67341765e-03,\n",
       "        -4.77201854e-02, -2.57146810e-03, -4.41359116e-02,\n",
       "        -9.78218463e-03,  2.39697959e+00, -5.67868416e-03,\n",
       "        -1.05519522e-02, -4.67567073e-03, -5.64001207e-03,\n",
       "        -1.12320815e-02, -9.91897493e-03, -2.76318157e-02,\n",
       "         0.00000000e+00,  0.00000000e+00, -3.72626624e-02,\n",
       "        -1.52141663e+00, -1.15664009e+00, -4.64089752e-01,\n",
       "        -4.63520471e-01, -2.47960476e-01, -2.48631282e-01,\n",
       "         5.36987403e-01, -2.55243389e-01, -2.03633068e-01,\n",
       "        -3.45153588e+00, -1.69431452e+00,  5.99396187e-01,\n",
       "        -2.82866677e-01, -1.02207729e+00, -1.58629293e-01,\n",
       "        -4.64417626e-01, -4.63202392e-01, -2.52039522e-01,\n",
       "        -2.49464005e-01],\n",
       "       [-1.16094640e+00,  1.26460323e+00, -2.07294758e-01,\n",
       "        -9.32997380e-03, -4.71876634e-03, -1.36477686e-02,\n",
       "        -2.57755794e-02, -1.46496357e-02, -1.47872239e-02,\n",
       "        -1.59723184e-02, -1.40137964e-02, -1.44407978e-02,\n",
       "        -1.53252400e-02, -1.53252400e-02, -1.09592224e-01,\n",
       "        -1.50586327e-02, -5.77479824e-02, -1.15042674e+00,\n",
       "        -1.44407978e-02, -1.41575600e-02, -3.68518585e-02,\n",
       "        -4.02234933e-02, -9.82266635e-02, -1.53911709e-02,\n",
       "        -1.45107441e-02,  2.58532402e+00, -1.41575600e-02,\n",
       "        -1.53911709e-02, -1.52590245e-02, -1.46496357e-02,\n",
       "        -1.40858615e-02, -1.42998796e-02, -1.43705113e-02,\n",
       "        -1.45107441e-02, -1.47185904e-02, -1.40858615e-02,\n",
       "        -1.41575600e-02, -1.43705113e-02, -1.47185904e-02,\n",
       "        -1.38685437e-02, -1.45803551e-02, -1.47872239e-02,\n",
       "        -2.77450931e-02, -1.21930159e-01, -1.42274718e-03,\n",
       "        -1.42998796e-02, -2.02251517e-02, -1.48555406e-02,\n",
       "        -5.37997330e-01, -1.42274718e-03, -1.55872920e-02,\n",
       "        -1.49912408e-02, -1.50586327e-02, -1.41691502e-01,\n",
       "        -1.49235448e-02, -1.45803551e-02, -1.47185904e-02,\n",
       "        -1.45803551e-02, -1.52590245e-02, -3.22412287e-02,\n",
       "        -1.42274718e-03, -3.76425808e-03, -1.78297864e-02,\n",
       "        -5.32350255e-03, -3.30183251e-02, -1.46496357e-02,\n",
       "        -1.46496357e-02, -1.46496357e-02, -1.49235448e-02,\n",
       "        -4.02416523e-03, -2.39854527e-01, -3.42547834e-02,\n",
       "        -4.71876634e-03, -4.27925776e-02, -4.62351662e-01,\n",
       "        -1.07421145e-02, -6.97017152e-03, -4.49916261e-03,\n",
       "         5.52643043e-01, -1.47185904e-02, -6.77917205e-02,\n",
       "        -2.81983614e-03, -1.15778692e-02, -6.67341765e-03,\n",
       "        -4.77201854e-02, -2.57146810e-03, -4.41359116e-02,\n",
       "        -9.78218463e-03,  2.39697959e+00, -5.67868416e-03,\n",
       "        -1.05519522e-02, -4.67567073e-03, -5.64001207e-03,\n",
       "        -1.12320815e-02, -9.91897493e-03, -2.76318157e-02,\n",
       "         0.00000000e+00,  0.00000000e+00, -3.72626624e-02,\n",
       "        -1.52141663e+00, -1.15664009e+00, -4.64089752e-01,\n",
       "        -4.63520471e-01, -2.47960476e-01, -2.48631282e-01,\n",
       "         5.36987403e-01, -2.55243389e-01, -2.03633068e-01,\n",
       "        -3.29708455e+00, -1.60001077e+00,  5.99396187e-01,\n",
       "        -2.82866677e-01, -1.14673739e+00, -1.58629293e-01,\n",
       "        -4.64417626e-01, -4.63202392e-01, -2.52039522e-01,\n",
       "        -2.49464005e-01],\n",
       "       [-1.16094640e+00,  1.26460323e+00, -2.07294758e-01,\n",
       "        -9.32997380e-03, -4.71876634e-03, -1.36477686e-02,\n",
       "        -2.57755794e-02, -1.46496357e-02, -1.47872239e-02,\n",
       "        -1.59723184e-02, -1.40137964e-02, -1.44407978e-02,\n",
       "        -1.53252400e-02, -1.53252400e-02, -1.09592224e-01,\n",
       "        -1.50586327e-02, -5.77479824e-02, -1.15042674e+00,\n",
       "        -1.44407978e-02, -1.41575600e-02, -3.68518585e-02,\n",
       "        -4.02234933e-02, -9.82266635e-02, -1.53911709e-02,\n",
       "        -1.45107441e-02,  2.58532402e+00, -1.41575600e-02,\n",
       "        -1.53911709e-02, -1.52590245e-02, -1.46496357e-02,\n",
       "        -1.40858615e-02, -1.42998796e-02, -1.43705113e-02,\n",
       "        -1.45107441e-02, -1.47185904e-02, -1.40858615e-02,\n",
       "        -1.41575600e-02, -1.43705113e-02, -1.47185904e-02,\n",
       "        -1.38685437e-02, -1.45803551e-02, -1.47872239e-02,\n",
       "        -2.77450931e-02, -1.21930159e-01, -1.42274718e-03,\n",
       "        -1.42998796e-02, -2.02251517e-02, -1.48555406e-02,\n",
       "        -5.37997330e-01, -1.42274718e-03, -1.55872920e-02,\n",
       "        -1.49912408e-02, -1.50586327e-02, -1.41691502e-01,\n",
       "        -1.49235448e-02, -1.45803551e-02, -1.47185904e-02,\n",
       "        -1.45803551e-02, -1.52590245e-02, -3.22412287e-02,\n",
       "        -1.42274718e-03, -3.76425808e-03, -1.78297864e-02,\n",
       "        -5.32350255e-03, -3.30183251e-02, -1.46496357e-02,\n",
       "        -1.46496357e-02, -1.46496357e-02, -1.49235448e-02,\n",
       "        -4.02416523e-03, -2.39854527e-01, -3.42547834e-02,\n",
       "        -4.71876634e-03, -4.27925776e-02, -4.62351662e-01,\n",
       "        -1.07421145e-02, -6.97017152e-03, -4.49916261e-03,\n",
       "         5.52643043e-01, -1.47185904e-02, -6.77917205e-02,\n",
       "        -2.82388383e-03,  1.41788145e-02, -6.67341765e-03,\n",
       "        -4.77201854e-02, -2.57146810e-03, -4.41359116e-02,\n",
       "        -9.78218463e-03,  2.39697959e+00, -5.67868416e-03,\n",
       "        -1.05519522e-02, -4.67567073e-03, -5.64001207e-03,\n",
       "        -1.12320815e-02, -9.91897493e-03, -2.76318157e-02,\n",
       "         0.00000000e+00,  0.00000000e+00, -3.72626624e-02,\n",
       "        -1.52141663e+00, -1.15664009e+00, -4.64089752e-01,\n",
       "        -4.63520471e-01, -2.47960476e-01, -2.48631282e-01,\n",
       "         5.36987403e-01, -2.55243389e-01, -2.03633068e-01,\n",
       "        -3.14263322e+00, -1.50570703e+00,  5.99396187e-01,\n",
       "        -2.82866677e-01, -1.18829076e+00, -1.58629293e-01,\n",
       "        -4.64417626e-01, -4.63202392e-01, -2.52039522e-01,\n",
       "        -2.49464005e-01]])"
      ]
     },
     "execution_count": 70,
     "metadata": {},
     "output_type": "execute_result"
    }
   ],
   "source": [
    "dataset_scaled[0:3,:]"
   ]
  },
  {
   "cell_type": "markdown",
   "metadata": {},
   "source": [
    "### PCA降维"
   ]
  },
  {
   "cell_type": "code",
   "execution_count": 86,
   "metadata": {},
   "outputs": [],
   "source": [
    "from sklearn.decomposition import PCA\n",
    "pca = PCA(n_components=2)\n",
    "dataset_pca = pca.fit_transform(dataset_scaled)"
   ]
  },
  {
   "cell_type": "code",
   "execution_count": 87,
   "metadata": {},
   "outputs": [
    {
     "name": "stdout",
     "output_type": "stream",
     "text": [
      "[0.10877685 0.05035541]\n"
     ]
    }
   ],
   "source": [
    "print(pca.explained_variance_ratio_) "
   ]
  },
  {
   "cell_type": "code",
   "execution_count": 88,
   "metadata": {},
   "outputs": [
    {
     "data": {
      "text/plain": [
       "array([1.00955079, 2.72177626])"
      ]
     },
     "execution_count": 88,
     "metadata": {},
     "output_type": "execute_result"
    }
   ],
   "source": [
    "dataset_pca[0,:]"
   ]
  },
  {
   "cell_type": "code",
   "execution_count": null,
   "metadata": {},
   "outputs": [],
   "source": []
  }
 ],
 "metadata": {
  "kernelspec": {
   "display_name": "Python 3",
   "language": "python",
   "name": "python3"
  },
  "language_info": {
   "codemirror_mode": {
    "name": "ipython",
    "version": 3
   },
   "file_extension": ".py",
   "mimetype": "text/x-python",
   "name": "python",
   "nbconvert_exporter": "python",
   "pygments_lexer": "ipython3",
   "version": "3.6.6"
  }
 },
 "nbformat": 4,
 "nbformat_minor": 2
}
